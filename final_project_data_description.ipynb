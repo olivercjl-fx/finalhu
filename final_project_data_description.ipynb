{
  "nbformat": 4,
  "nbformat_minor": 0,
  "metadata": {
    "colab": {
      "provenance": []
    },
    "kernelspec": {
      "name": "python3",
      "display_name": "Python 3"
    },
    "language_info": {
      "name": "python"
    }
  },
  "cells": [
    {
      "cell_type": "code",
      "execution_count": null,
      "metadata": {
        "colab": {
          "base_uri": "https://localhost:8080/"
        },
        "id": "fLNToAJLfQS_",
        "outputId": "9ca3722c-7d01-4192-a442-1ee4767f26fb"
      },
      "outputs": [
        {
          "output_type": "stream",
          "name": "stdout",
          "text": [
            "Requirement already satisfied: openpyxl in /usr/local/lib/python3.11/dist-packages (3.1.5)\n",
            "Requirement already satisfied: et-xmlfile in /usr/local/lib/python3.11/dist-packages (from openpyxl) (2.0.0)\n"
          ]
        }
      ],
      "source": [
        "!pip install openpyxl\n",
        "\n",
        "import pandas as pd\n",
        "import numpy as np\n",
        "import matplotlib.pyplot as plt\n",
        "import seaborn as sns\n",
        "\n",
        "file_path = \"/content/final_combined_data_with_tariff.xlsx\"\n",
        "df = pd.read_excel(file_path, index_col=0, parse_dates=True)\n",
        "\n",
        "print(\"Data shape:\", df.shape)\n",
        "print(df.info())\n",
        "print(df.head())\n",
        "print(df.isnull().sum())\n",
        "print(df.nunique())\n",
        "print(df.describe(include='all').transpose())\n",
        "\n",
        "plt.figure(figsize=(25, 25))\n",
        "sns.heatmap(df.corr(numeric_only=True), annot=True, fmt=\".2f\", cmap=\"coolwarm\", square=True)\n",
        "plt.title(\"Correlation Matrix\")\n",
        "plt.show()\n"
      ]
    }
  ]
}